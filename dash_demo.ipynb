{
 "cells": [
  {
   "cell_type": "markdown",
   "metadata": {},
   "source": [
    "# 3D Image Visualization with Dash\n",
    "\n",
    "Installation: `pip install dash dash-vtk dash-bootstrap-components`\n",
    "\n",
    "Documentation: [3D Visualization explained (Dash)](https://dash.plotly.com/vtk/intro)"
   ]
  },
  {
   "cell_type": "code",
   "execution_count": null,
   "metadata": {},
   "outputs": [],
   "source": [
    "import dash\n",
    "from dash.dependencies import Input, Output\n",
    "import dash_bootstrap_components as dbc\n",
    "from dash import dcc\n",
    "from dash import html\n",
    "import dash_vtk\n",
    "import base64\n",
    "import tifffile\n",
    "import io\n",
    "\n",
    "app = dash.Dash(__name__, assets_url_path=\"/assets\")\n",
    "\n",
    "app.layout = dbc.Container(\n",
    "    fluid=True,\n",
    "    style={\"height\": \"100vh\"},\n",
    "    children=[\n",
    "        html.Div([\n",
    "            dcc.Upload(\n",
    "                id='upload-data',\n",
    "                children=html.Div(['Click to Open or Drag and Drop Files']),\n",
    "                multiple=False\n",
    "            ),\n",
    "            html.Div(id='output-data-upload'),\n",
    "        ]),\n",
    "        html.Div(\n",
    "            dash_vtk.View(id=\"vtk-view\"), \n",
    "            id=\"vtk-container\",\n",
    "        ),\n",
    "    ],\n",
    ")\n",
    "\n",
    "def upload_file(contents):\n",
    "    _, content_string = contents.split(',')\n",
    "    buffer = base64.b64decode(content_string)\n",
    "    image = tifffile.imread(io.BytesIO(buffer))\n",
    "    return dash_vtk.VolumeDataRepresentation(\n",
    "        dimensions=image.shape,\n",
    "        scalars=image.ravel(order=\"F\"),\n",
    "    )\n",
    "\n",
    "@app.callback(Output('vtk-view', 'children'), Input('upload-data', 'contents'))\n",
    "def update_output(contents):\n",
    "    if contents is not None:\n",
    "        return upload_file(contents)\n",
    "    \n",
    "app.run(jupyter_mode=\"tab\")  # The app will be running at http://localhost:8050"
   ]
  }
 ],
 "metadata": {
  "kernelspec": {
   "display_name": "ndlunch",
   "language": "python",
   "name": "python3"
  },
  "language_info": {
   "codemirror_mode": {
    "name": "ipython",
    "version": 3
   },
   "file_extension": ".py",
   "mimetype": "text/x-python",
   "name": "python",
   "nbconvert_exporter": "python",
   "pygments_lexer": "ipython3",
   "version": "3.11.11"
  }
 },
 "nbformat": 4,
 "nbformat_minor": 4
}
