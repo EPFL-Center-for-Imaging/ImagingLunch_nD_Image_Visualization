{
 "cells": [
  {
   "cell_type": "markdown",
   "metadata": {},
   "source": [
    "# 3D Image Visualization with Itkwidgets\n",
    "\n",
    "Installation: `pip install \"itkwidgets[lab]>=1.0a55\"`"
   ]
  },
  {
   "cell_type": "code",
   "execution_count": null,
   "metadata": {},
   "outputs": [],
   "source": [
    "from skimage.data import cells3d\n",
    "from itkwidgets import view\n",
    "\n",
    "image = cells3d()[:, 1]  # A 3D Numpy array\n",
    "\n",
    "view(image)"
   ]
  }
 ],
 "metadata": {
  "kernelspec": {
   "display_name": "ndlunch",
   "language": "python",
   "name": "python3"
  },
  "language_info": {
   "codemirror_mode": {
    "name": "ipython",
    "version": 3
   },
   "file_extension": ".py",
   "mimetype": "text/x-python",
   "name": "python",
   "nbconvert_exporter": "python",
   "pygments_lexer": "ipython3",
   "version": "3.10.16"
  }
 },
 "nbformat": 4,
 "nbformat_minor": 4
}
