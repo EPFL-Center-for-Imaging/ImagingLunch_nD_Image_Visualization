{
 "cells": [
  {
   "cell_type": "markdown",
   "metadata": {},
   "source": [
    "# 3D Image Visualization with PyVista\n",
    "\n",
    "Installation: `pip install pyvista trame trame-vtk trame-vuetify trame-components`"
   ]
  },
  {
   "cell_type": "code",
   "execution_count": 1,
   "metadata": {},
   "outputs": [],
   "source": [
    "import pyvista as pv\n",
    "from pyvista import examples\n",
    "import tifffile\n",
    "import numpy\n",
    "import matplotlib.pyplot as plt"
   ]
  },
  {
   "cell_type": "markdown",
   "metadata": {},
   "source": [
    "## Load data\n",
    "\n",
    "Complete example: [Volume Rendering (PyVista)](https://docs.pyvista.org/examples/02-plot/volume#sphx-glr-examples-02-plot-volume-py)"
   ]
  },
  {
   "cell_type": "code",
   "execution_count": 21,
   "metadata": {},
   "outputs": [
    {
     "name": "stdout",
     "output_type": "stream",
     "text": [
      "cyl.shape = (200, 200, 200)\n",
      "cyl.size = 8000000\n"
     ]
    }
   ],
   "source": [
    "cyl = tifffile.imread(\"03-delta.tif\")[::-1]\n",
    "print(f\"{cyl.shape = }\")\n",
    "print(f\"{cyl.size = }\")"
   ]
  },
  {
   "cell_type": "markdown",
   "metadata": {},
   "source": [
    "## Render Volume in PyVista"
   ]
  },
  {
   "cell_type": "code",
   "execution_count": 22,
   "metadata": {},
   "outputs": [
    {
     "data": {
      "application/vnd.jupyter.widget-view+json": {
       "model_id": "35649d8fdce04054aafde679917a7f73",
       "version_major": 2,
       "version_minor": 0
      },
      "text/plain": [
       "Widget(value='<iframe src=\"http://localhost:41469/index.html?ui=P_0x7f7f60018d90_14&reconnect=auto\" class=\"pyv…"
      ]
     },
     "metadata": {},
     "output_type": "display_data"
    },
    {
     "name": "stdout",
     "output_type": "stream",
     "text": [
      " JS Error => TypeError: Cannot create proxy with a non-object as target or handler\n"
     ]
    }
   ],
   "source": [
    "cpos = [(-381.74, -46.02, 216.54), (74.8305, 89.2905, 100.0), (0.23, 0.072, 0.97)]\n",
    "\n",
    "plotter = pv.Plotter()\n",
    "plotter.add_volume(cyl, opacity='geom', cmap=\"Greys_r\", shade=True)\n",
    "plotter.camera_position='yx'\n",
    "plotter.show()"
   ]
  },
  {
   "cell_type": "markdown",
   "metadata": {},
   "source": [
    "## Apply threshold and render, these are cubes"
   ]
  },
  {
   "cell_type": "code",
   "execution_count": 28,
   "metadata": {},
   "outputs": [
    {
     "data": {
      "application/vnd.jupyter.widget-view+json": {
       "model_id": "c436d375a1974e84860d2973200bcbec",
       "version_major": 2,
       "version_minor": 0
      },
      "text/plain": [
       "Widget(value='<iframe src=\"http://localhost:41469/index.html?ui=P_0x7f82132f3350_20&reconnect=auto\" class=\"pyv…"
      ]
     },
     "metadata": {},
     "output_type": "display_data"
    },
    {
     "name": "stdout",
     "output_type": "stream",
     "text": [
      " JS Error => TypeError: Cannot create proxy with a non-object as target or handler\n"
     ]
    }
   ],
   "source": [
    "def to_pyvista(image: numpy.ndarray) -> pv.ImageData:\n",
    "    \"\"\"Convert a 3D numpy array to PyVista volume for rendering\"\"\"\n",
    "    volume = pv.ImageData(dimensions=numpy.array(image.shape) + 1)\n",
    "    volume.cell_data[\"values\"] = image.flatten(order=\"F\")\n",
    "    return volume\n",
    "\n",
    "pvdata = to_pyvista(cyl)\n",
    "vol = pvdata.threshold_percent(50, invert=0)\n",
    "vol.plot(show_edges=True, show_scalar_bar=False, color='b', cpos='yx')"
   ]
  },
  {
   "cell_type": "markdown",
   "metadata": {},
   "source": [
    "## Extract a surface and triangulate it"
   ]
  },
  {
   "cell_type": "code",
   "execution_count": 25,
   "metadata": {},
   "outputs": [
    {
     "name": "stdout",
     "output_type": "stream",
     "text": [
      "(181978, 3)\n"
     ]
    },
    {
     "data": {
      "application/vnd.jupyter.widget-view+json": {
       "model_id": "c7ff82af057546249137121f2197babc",
       "version_major": 2,
       "version_minor": 0
      },
      "text/plain": [
       "Widget(value='<iframe src=\"http://localhost:41469/index.html?ui=P_0x7f7f31b07010_17&reconnect=auto\" class=\"pyv…"
      ]
     },
     "metadata": {},
     "output_type": "display_data"
    },
    {
     "name": "stdout",
     "output_type": "stream",
     "text": [
      " JS Error => TypeError: Cannot create proxy with a non-object as target or handler\n"
     ]
    }
   ],
   "source": [
    "surf = vol.extract_surface().triangulate()\n",
    "print(surf.points.shape)\n",
    "surf.plot(show_edges=True, show_scalar_bar=False, color='g', cpos='yx')"
   ]
  },
  {
   "cell_type": "markdown",
   "metadata": {},
   "source": [
    "## Simplify and smooth the surface"
   ]
  },
  {
   "cell_type": "code",
   "execution_count": 40,
   "metadata": {},
   "outputs": [
    {
     "name": "stdout",
     "output_type": "stream",
     "text": [
      "(1821, 3)\n"
     ]
    },
    {
     "data": {
      "application/vnd.jupyter.widget-view+json": {
       "model_id": "9b080a41ac09445abdcb66c9283eea6a",
       "version_major": 2,
       "version_minor": 0
      },
      "text/plain": [
       "Widget(value='<iframe src=\"http://localhost:41469/index.html?ui=P_0x7f7f310ef150_31&reconnect=auto\" class=\"pyv…"
      ]
     },
     "metadata": {},
     "output_type": "display_data"
    },
    {
     "name": "stdout",
     "output_type": "stream",
     "text": [
      " JS Error => TypeError: Cannot create proxy with a non-object as target or handler\n"
     ]
    }
   ],
   "source": [
    "surfSmall = surf.decimate(0.99)\n",
    "print(surfSmall.points.shape)\n",
    "smooth = surfSmall.smooth(n_iter=100)\n",
    "#smooth.plot(show_edges=True, show_scalar_bar=False, color='r')\n",
    "plotter = pv.Plotter()\n",
    "plotter.add_mesh(smooth, show_edges=True, show_vertices=True)\n",
    "plotter.camera_position='yx'\n",
    "plotter.show()"
   ]
  },
  {
   "cell_type": "markdown",
   "metadata": {},
   "source": [
    "## What is this surface made of? It's a surface mesh"
   ]
  },
  {
   "cell_type": "code",
   "execution_count": 41,
   "metadata": {},
   "outputs": [
    {
     "name": "stdout",
     "output_type": "stream",
     "text": [
      " -- POINTS -- \n",
      "surf.points = pyvista_ndarray([[199.,  94.,  13.],\n",
      "                 [200.,  94.,  13.],\n",
      "                 [200.,  94.,  14.],\n",
      "                 ...,\n",
      "                 [200., 102., 186.],\n",
      "                 [199., 103., 186.],\n",
      "                 [200., 103., 186.]], dtype=float32)\n",
      "surf.points.shape = (181978, 3)\n",
      "\n",
      "\n",
      "\n",
      "\n",
      " -- CONNECTIVITY -- \n",
      "surf.regular_faces = array([[     0,      1,      3],\n",
      "       [     2,      3,      1],\n",
      "       [     0,      4,      1],\n",
      "       ...,\n",
      "       [181975, 181974, 181973],\n",
      "       [181974, 181975, 181976],\n",
      "       [181977, 181976, 181975]])\n",
      "surf.regular_faces.shape = (363956, 3)\n"
     ]
    }
   ],
   "source": [
    "print(\" -- POINTS -- \")\n",
    "print(f\"{surf.points = }\")\n",
    "print(f\"{surf.points.shape = }\")\n",
    "\n",
    "print(\"\\n\\n\\n\\n -- CONNECTIVITY -- \")\n",
    "print(f\"{surf.regular_faces = }\")\n",
    "print(f\"{surf.regular_faces.shape = }\")"
   ]
  },
  {
   "cell_type": "markdown",
   "metadata": {},
   "source": [
    "## Why is the rendering so nice? Surface normals!"
   ]
  },
  {
   "cell_type": "code",
   "execution_count": 51,
   "metadata": {},
   "outputs": [
    {
     "data": {
      "application/vnd.jupyter.widget-view+json": {
       "model_id": "e2001f5bcdf4481f9af647fcbf5ac8a2",
       "version_major": 2,
       "version_minor": 0
      },
      "text/plain": [
       "Widget(value='<iframe src=\"http://localhost:41469/index.html?ui=P_0x7f7eb903f890_41&reconnect=auto\" class=\"pyv…"
      ]
     },
     "metadata": {},
     "output_type": "display_data"
    },
    {
     "name": "stdout",
     "output_type": "stream",
     "text": [
      " JS Error => TypeError: Cannot create proxy with a non-object as target or handler\n"
     ]
    }
   ],
   "source": [
    "smooth.compute_normals(cell_normals=False, point_normals=True, inplace=True)\n",
    "\n",
    "plotter = pv.Plotter()\n",
    "plotter.add_mesh(smooth, show_edges=True, show_vertices=True)\n",
    "plotter.add_arrows(smooth.points, smooth['Normals']*10, color='k')\n",
    "plotter.camera_position='yx'\n",
    "plotter.show()"
   ]
  },
  {
   "cell_type": "markdown",
   "metadata": {},
   "source": [
    "## We could also have built the mesh with skimage for example..."
   ]
  },
  {
   "cell_type": "code",
   "execution_count": 52,
   "metadata": {},
   "outputs": [
    {
     "name": "stdout",
     "output_type": "stream",
     "text": [
      "points.shape = (40633, 3)\n"
     ]
    },
    {
     "data": {
      "application/vnd.jupyter.widget-view+json": {
       "model_id": "10357b596cab433d80e3b082ff79732a",
       "version_major": 2,
       "version_minor": 0
      },
      "text/plain": [
       "Widget(value='<iframe src=\"http://localhost:41469/index.html?ui=P_0x7f7e45685510_42&reconnect=auto\" class=\"pyv…"
      ]
     },
     "metadata": {},
     "output_type": "display_data"
    },
    {
     "name": "stdout",
     "output_type": "stream",
     "text": [
      " JS Error => TypeError: Cannot create proxy with a non-object as target or handler\n"
     ]
    }
   ],
   "source": [
    "import skimage.measure\n",
    "#points, conn = vispy.geometry.isosurface.isosurface(cyl, 128, )\n",
    "points, conn, normals, values = skimage.measure.marching_cubes(cyl, 128, step_size=2, method='lewiner', )\n",
    "connPV = numpy.hstack([numpy.ones((conn.shape[0], 1)) * 3, conn]).astype('<u2')\n",
    "\n",
    "mesh = pv.PolyData(\n",
    "        points,\n",
    "        connPV)\n",
    "\n",
    "print(f\"{points.shape = }\")\n",
    "plotter = pv.Plotter()\n",
    "plotter.add_mesh(mesh, show_edges=True, show_vertices=True)\n",
    "plotter.camera_position='yx'\n",
    "plotter.show()"
   ]
  }
 ],
 "metadata": {
  "kernelspec": {
   "display_name": "Python 3 (ipykernel)",
   "language": "python",
   "name": "python3"
  },
  "language_info": {
   "codemirror_mode": {
    "name": "ipython",
    "version": 3
   },
   "file_extension": ".py",
   "mimetype": "text/x-python",
   "name": "python",
   "nbconvert_exporter": "python",
   "pygments_lexer": "ipython3",
   "version": "3.11.2"
  }
 },
 "nbformat": 4,
 "nbformat_minor": 4
}
