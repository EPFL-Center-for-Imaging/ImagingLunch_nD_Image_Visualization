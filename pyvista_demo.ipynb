{
 "cells": [
  {
   "cell_type": "markdown",
   "metadata": {},
   "source": [
    "# 3D Image Visualization with PyVista\n",
    "\n",
    "Installation: `pip install pyvista`"
   ]
  },
  {
   "cell_type": "code",
   "execution_count": 2,
   "metadata": {},
   "outputs": [],
   "source": [
    "import pyvista as pv\n",
    "from pyvista import examples"
   ]
  },
  {
   "cell_type": "markdown",
   "metadata": {},
   "source": [
    "## Volume rendering\n",
    "\n",
    "Complete example: [Volume Rendering (PyVista)](https://docs.pyvista.org/examples/02-plot/volume#sphx-glr-examples-02-plot-volume-py)"
   ]
  },
  {
   "cell_type": "code",
   "execution_count": null,
   "metadata": {},
   "outputs": [],
   "source": [
    "knee = examples.download_knee_full()\n",
    "\n",
    "plottter = pv.Plotter()\n",
    "plottter.add_volume(knee, opacity=\"sigmoid\", cmap=\"coolwarm\", shade=True,)\n",
    "plottter.show()"
   ]
  },
  {
   "cell_type": "markdown",
   "metadata": {},
   "source": [
    "## Surface rendering\n",
    "\n",
    "Complete example: [Physically Based Rendering (PyVista)](https://docs.pyvista.org/examples/02-plot/pbr.html)"
   ]
  },
  {
   "cell_type": "code",
   "execution_count": null,
   "metadata": {},
   "outputs": [],
   "source": [
    "mesh = examples.download_nefertiti()\n",
    "\n",
    "plotter = pv.Plotter()\n",
    "plotter.add_mesh(mesh, color='linen', pbr=True, metallic=0.8, roughness=0.1, diffuse=1,)\n",
    "\n",
    "# Environment background\n",
    "cubemap = examples.download_sky_box_cube_map()\n",
    "plotter.add_actor(cubemap.to_skybox())\n",
    "plotter.set_environment_texture(cubemap)\n",
    "\n",
    "plotter.show()"
   ]
  },
  {
   "cell_type": "markdown",
   "metadata": {},
   "source": [
    "## Numpy to PyVista"
   ]
  },
  {
   "cell_type": "code",
   "execution_count": null,
   "metadata": {},
   "outputs": [],
   "source": [
    "from skimage.data import cells3d\n",
    "\n",
    "image = cells3d()[:, 1]  # A 3D Numpy array\n",
    "\n",
    "image.shape"
   ]
  },
  {
   "cell_type": "code",
   "execution_count": null,
   "metadata": {},
   "outputs": [],
   "source": [
    "import numpy as np\n",
    "\n",
    "def to_pyvista(image: np.ndarray) -> pv.ImageData:\n",
    "    \"\"\"Convert a 3D numpy array to PyVista volume for rendering\"\"\"\n",
    "    volume = pv.ImageData(dimensions=np.array(image.shape) + 1)\n",
    "    volume.cell_data[\"values\"] = image.flatten(order=\"F\")\n",
    "    return volume\n",
    "\n",
    "vol = to_pyvista(image)\n",
    "\n",
    "vol.plot(volume=True)"
   ]
  },
  {
   "cell_type": "code",
   "execution_count": null,
   "metadata": {},
   "outputs": [],
   "source": []
  }
 ],
 "metadata": {
  "kernelspec": {
   "display_name": "Python 3 (ipykernel)",
   "language": "python",
   "name": "python3"
  },
  "language_info": {
   "codemirror_mode": {
    "name": "ipython",
    "version": 3
   },
   "file_extension": ".py",
   "mimetype": "text/x-python",
   "name": "python",
   "nbconvert_exporter": "python",
   "pygments_lexer": "ipython3",
   "version": "3.10.16"
  }
 },
 "nbformat": 4,
 "nbformat_minor": 4
}
